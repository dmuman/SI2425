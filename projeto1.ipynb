{
 "cells": [
  {
   "cell_type": "code",
   "execution_count": null,
   "metadata": {},
   "outputs": [],
   "source": [
    "from searchPlus import *"
   ]
  },
  {
   "cell_type": "code",
   "execution_count": null,
   "metadata": {},
   "outputs": [],
   "source": [
    "line1 = \"## ## ## ## ## ## ## ## ##\\n\"\n",
    "line2 = \"## .. .. .. .. .. .. .. ##\\n\"\n",
    "line3 = \"## .. .. .. 00 .. .. .. ##\\n\"\n",
    "line4 = \"## .. .. .. .. .. .. .. ##\\n\"\n",
    "line5 = \"## .. .. () () () .. .. ##\\n\"\n",
    "line6 = \"## .. .. .. .. .. .. .. ##\\n\"\n",
    "line7 = \"## .. .. .. 01 .. .. .. ##\\n\"\n",
    "line8 = \"## .. .. .. .. .. .. .. ##\\n\"\n",
    "line9 = \"## ## ## ## ## ## ## ## ##\\n\"\n",
    "grid = line1 + line2 + line3 + line4 + line5 + line6 + line7 + line8 + line9"
   ]
  },
  {
   "cell_type": "code",
   "execution_count": null,
   "metadata": {},
   "outputs": [],
   "source": [
    "class PenguinsPairs(Problem):\n",
    "    \n",
    "    def __init__(self, ice_map=grid):\n",
    "        super().__init__(self.initial)\n",
    "        self.initial = self.parse_grid(ice_map)\n",
    "        self.rows = len(self.initial)\n",
    "        self.cols = len(self.initial[0])\n",
    "    \n",
    "    def parse_grid(self, ice_map):\n",
    "        return tuple(tuple(line.split()) for line in ice_map.strip().split(\"\\n\"))\n",
    "    \n",
    "    def actions(self, state):\n",
    "        moves = []\n",
    "        directions = [('E', (0, 1)), ('N', (-1, 0)), ('O', (0, -1)), ('S', (1, 0))]\n",
    "        \n",
    "        for penguin in ('00', '01'):\n",
    "            for i in range(self.rows):\n",
    "                for j in range(self.cols):\n",
    "                    if state[i][j] == penguin:\n",
    "                        for d, (di, dj) in directions:\n",
    "                            ni, nj = i + di, j + dj\n",
    "                            if 0 <= ni < self.rows and 0 <= nj < self.cols and state[ni][nj] == \"..\":\n",
    "                                moves.append((penguin, d))\n",
    "        return moves\n",
    "    \n",
    "    def result(self, state, action):\n",
    "        penguin, direction = action\n",
    "        directions = {'N': (-1, 0), 'S': (1, 0), 'E': (0, 1), 'O': (0, -1)}\n",
    "        di, dj = directions[direction]\n",
    "        \n",
    "        new_state = [list(row) for row in state]\n",
    "        for i in range(self.rows):\n",
    "            for j in range(self.cols):\n",
    "                if new_state[i][j] == penguin:\n",
    "                    ni, nj = i + di, j + dj\n",
    "                    if 0 <= ni < self.rows and 0 <= nj < self.cols and new_state[ni][nj] == \"..\":\n",
    "                        new_state[i][j] = \"..\"\n",
    "                        new_state[ni][nj] = penguin\n",
    "                        return tuple(tuple(row) for row in new_state)\n",
    "        \n",
    "        return state\n",
    "    \n",
    "    def goal_test(self, state):\n",
    "        return any(state[i][j] == \"00\" and state[i+1][j] == \"01\" for i in range(self.rows - 1) for j in range(self.cols))\n",
    "    \n",
    "    def display(self, state):\n",
    "        return \"\\n\".join(\" \".join(row) for row in state) + \"\\n\"\n",
    "    \n",
    "    def executa(self, state, actions_list, verbose=False):\n",
    "        cost = 0\n",
    "        for a in actions_list:\n",
    "            seg = self.result(state, a)\n",
    "            cost = self.path_cost(cost, state, a, seg)\n",
    "            state = seg\n",
    "            obj = self.goal_test(state)\n",
    "            if verbose:\n",
    "                print('Ação:', a)\n",
    "                print(self.display(state), end='')\n",
    "                print('Custo Total:', cost)\n",
    "                print('Atingido o objectivo?', obj)\n",
    "                print()\n",
    "            if obj:\n",
    "                break\n",
    "        return (state, cost, obj)"
   ]
  },
  {
   "cell_type": "code",
   "execution_count": null,
   "metadata": {},
   "outputs": [],
   "source": []
  },
  {
   "cell_type": "code",
   "execution_count": null,
   "metadata": {},
   "outputs": [],
   "source": []
  }
 ],
 "metadata": {
  "language_info": {
   "name": "python"
  }
 },
 "nbformat": 4,
 "nbformat_minor": 2
}
